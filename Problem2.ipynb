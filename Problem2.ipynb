{
 "cells": [
  {
   "cell_type": "code",
   "execution_count": 1,
   "id": "40c3e6e3",
   "metadata": {},
   "outputs": [],
   "source": [
    "import numpy as np\n",
    "import pandas as pd\n",
    "import matplotlib.pyplot as plt\n"
   ]
  },
  {
   "cell_type": "code",
   "execution_count": 2,
   "id": "3f797c6f",
   "metadata": {},
   "outputs": [
    {
     "data": {
      "text/plain": [
       "100"
      ]
     },
     "execution_count": 2,
     "metadata": {},
     "output_type": "execute_result"
    }
   ],
   "source": [
    "df = pd.read_csv('D3.csv') # To get first n rows from the dataset default value of n is 5\n",
    "M=len(df)\n",
    "M"
   ]
  },
  {
   "cell_type": "code",
   "execution_count": 4,
   "id": "db29e538",
   "metadata": {},
   "outputs": [
    {
     "name": "stdout",
     "output_type": "stream",
     "text": [
      "X1 =  [0.         0.04040404 0.08080808 0.12121212 0.16161616 0.2020202\n",
      " 0.24242424 0.28282828 0.32323232 0.36363636 0.4040404  0.44444444\n",
      " 0.48484848 0.52525252 0.56565657 0.60606061 0.64646465 0.68686869\n",
      " 0.72727273 0.76767677 0.80808081 0.84848485 0.88888889 0.92929293\n",
      " 0.96969697 1.01010101 1.05050505 1.09090909 1.13131313 1.17171717\n",
      " 1.21212121 1.25252525 1.29292929 1.33333333 1.37373737 1.41414141\n",
      " 1.45454546 1.49494949 1.53535354 1.57575758 1.61616162 1.65656566\n",
      " 1.6969697  1.73737374 1.77777778 1.81818182 1.85858586 1.8989899\n",
      " 1.93939394 1.97979798 2.02020202 2.06060606 2.1010101  2.14141414\n",
      " 2.18181818 2.22222222 2.26262626 2.3030303  2.34343434 2.38383838\n",
      " 2.42424242 2.46464646 2.5050505  2.54545455 2.58585859 2.62626263\n",
      " 2.66666667 2.70707071 2.74747475 2.78787879 2.82828283 2.86868687\n",
      " 2.90909091 2.94949495 2.98989899 3.03030303 3.07070707 3.11111111\n",
      " 3.15151515 3.19191919 3.23232323 3.27272727 3.31313131 3.35353535\n",
      " 3.39393939 3.43434343 3.47474748 3.51515151 3.55555556 3.5959596\n",
      " 3.63636364 3.67676768 3.71717172 3.75757576 3.7979798  3.83838384\n",
      " 3.87878788 3.91919192 3.95959596 4.        ]\n",
      "X2 =  [3.44       0.1349495  0.82989899 1.52484848 2.21979798 2.91474747\n",
      " 3.60969697 0.30464646 0.99959596 1.69454546 2.38949495 3.08444444\n",
      " 3.77939394 0.47434343 1.16929293 1.86424242 2.55919192 3.25414141\n",
      " 3.94909091 0.6440404  1.3389899  2.03393939 2.72888889 3.42383838\n",
      " 0.11878788 0.81373737 1.50868687 2.20363636 2.89858586 3.59353535\n",
      " 0.28848485 0.98343434 1.67838384 2.37333333 3.06828283 3.76323232\n",
      " 0.45818182 1.15313131 1.84808081 2.5430303  3.2379798  3.93292929\n",
      " 0.62787879 1.32282828 2.01777778 2.71272727 3.40767677 0.10262626\n",
      " 0.79757576 1.49252525 2.18747475 2.88242424 3.57737374 0.27232323\n",
      " 0.96727273 1.66222222 2.35717172 3.05212121 3.74707071 0.4420202\n",
      " 1.1369697  1.83191919 2.52686869 3.22181818 3.91676768 0.61171717\n",
      " 1.30666667 2.00161616 2.69656566 3.39151515 0.08646465 0.78141414\n",
      " 1.47636364 2.17131313 2.86626263 3.56121212 0.25616162 0.95111111\n",
      " 1.64606061 2.3410101  3.0359596  3.73090909 0.42585859 1.12080808\n",
      " 1.81575758 2.51070707 3.20565657 3.90060606 0.59555556 1.29050505\n",
      " 1.98545455 2.68040404 3.37535353 0.07030303 0.76525252 1.46020202\n",
      " 2.15515152 2.85010101 3.5450505  0.24      ]\n",
      "X3 =  [0.44       0.88848485 1.3369697  1.78545454 2.23393939 2.68242424\n",
      " 3.13090909 3.57939394 0.02787879 0.47636364 0.92484849 1.37333333\n",
      " 1.82181818 2.27030303 2.71878788 3.16727273 3.61575758 0.06424242\n",
      " 0.51272727 0.96121212 1.40969697 1.85818182 2.30666667 2.75515152\n",
      " 3.20363636 3.65212121 0.10060606 0.54909091 0.99757576 1.44606061\n",
      " 1.89454546 2.3430303  2.79151515 3.24       3.68848485 0.1369697\n",
      " 0.58545455 1.03393939 1.48242424 1.93090909 2.37939394 2.82787879\n",
      " 3.27636364 3.72484848 0.17333333 0.62181818 1.07030303 1.51878788\n",
      " 1.96727273 2.41575758 2.86424242 3.31272727 3.76121212 0.20969697\n",
      " 0.65818182 1.10666667 1.55515151 2.00363636 2.45212121 2.90060606\n",
      " 3.34909091 3.79757576 0.24606061 0.69454545 1.1430303  1.59151515\n",
      " 2.04       2.48848485 2.9369697  3.38545454 3.83393939 0.28242424\n",
      " 0.73090909 1.17939394 1.62787879 2.07636364 2.52484849 2.97333333\n",
      " 3.42181818 3.87030303 0.31878788 0.76727273 1.21575758 1.66424242\n",
      " 2.11272727 2.56121212 3.00969697 3.45818182 3.90666667 0.35515151\n",
      " 0.80363636 1.25212121 1.70060606 2.14909091 2.59757576 3.04606061\n",
      " 3.49454545 3.9430303  0.39151515 0.84      ]\n",
      "y =  [ 4.38754501  2.6796499   2.96848981  3.25406475  3.53637472  3.81541972\n",
      "  4.09119974  2.36371479  3.83296487  4.09894997  4.3616701   4.62112526\n",
      "  4.87731544  3.13024065  3.37990089  3.62629616  3.86942645  5.30929177\n",
      "  5.54589212  3.77922749  4.00929789  4.23610332  4.45964378  4.67991926\n",
      "  2.89692977  3.1106753   4.52115587  4.72837146  4.93232208  5.13300772\n",
      "  3.33042839  3.52458409  3.71547481  3.90310057  4.08746135  5.46855715\n",
      "  3.64638799  3.82095385  3.99225473  4.16029065  4.32506159  4.48656756\n",
      "  2.64480856  2.79978458  4.15149563  4.29994171  4.44512281  2.58703894\n",
      "  2.7256901   2.86107628  2.99319749  3.12205374  3.247645    2.56997129\n",
      "  2.68903261  2.80482896  2.91736034  3.02662674  3.13262817  1.23536462\n",
      "  1.3348361   1.43104261  2.72398415  2.81366071  2.9000723   0.98321892\n",
      "  1.06310057  1.13971724  1.21306894  1.28315566 -0.65002258  0.6135342\n",
      "  0.673826    0.73085284  0.7846147   0.83511159 -1.1176565  -1.07368956\n",
      " -1.03298759 -0.99555059  0.23862143  0.26952848 -1.70282944 -1.67845234\n",
      " -1.6573402  -1.63949305 -1.62491086 -1.61359365 -3.60554141 -2.40075414\n",
      " -2.39923185 -2.40097453 -2.40598218 -4.4142548  -4.4257924  -4.44059497\n",
      " -4.45866252 -4.47999504 -3.30459253 -5.33245499]\n",
      "m =  100\n"
     ]
    }
   ],
   "source": [
    "X1 = df.values[:, 0] \n",
    "X2 = df.values[:, 1]\n",
    "X3 = df.values[:, 2]# get input values from first column\n",
    "y = df.values[:, 3]  # get output values from second column\n",
    "m = len(y) # Number of training examples\n",
    "print('X1 = ', X1[: 100])\n",
    "print('X2 = ', X2[: 100])\n",
    "print('X3 = ', X3[: 100])# Show only first 5 records\n",
    "print('y = ', y[: 100])\n",
    "print('m = ', m)"
   ]
  },
  {
   "cell_type": "code",
   "execution_count": 5,
   "id": "e0696455",
   "metadata": {},
   "outputs": [
    {
     "data": {
      "text/plain": [
       "Text(0.5, 1.0, 'Scatter plot of training data')"
      ]
     },
     "execution_count": 5,
     "metadata": {},
     "output_type": "execute_result"
    },
    {
     "data": {
      "image/png": "[encoded data removed]",
      "text/plain": [
       "<Figure size 432x288 with 1 Axes>"
      ]
     },
     "metadata": {
      "needs_background": "light"
     },
     "output_type": "display_data"
    }
   ],
   "source": [
    "plt.scatter(X1,y, color='red',marker= '+')\n",
    "plt.grid()\n",
    "plt.rcParams[\"figure.figsize\"] = (10,6)\n",
    "plt.title('Scatter plot of training data')"
   ]
  },
  {
   "cell_type": "code",
   "execution_count": 6,
   "id": "e93d29ce",
   "metadata": {},
   "outputs": [
    {
     "data": {
      "text/plain": [
       "array([[1.],\n",
       "       [1.],\n",
       "       [1.],\n",
       "       [1.],\n",
       "       [1.]])"
      ]
     },
     "execution_count": 6,
     "metadata": {},
     "output_type": "execute_result"
    }
   ],
   "source": [
    "#Lets create a matrix with single column of ones\n",
    "X_0 = np.ones((m, 1))\n",
    "X_0[:5]\n"
   ]
  },
  {
   "cell_type": "code",
   "execution_count": 8,
   "id": "f8939df8",
   "metadata": {},
   "outputs": [
    {
     "name": "stdout",
     "output_type": "stream",
     "text": [
      "X_1 =  [[3.88      ]\n",
      " [1.06383838]\n",
      " [2.24767677]\n",
      " [3.43151515]\n",
      " [4.61535354]\n",
      " [5.79919192]\n",
      " [6.9830303 ]\n",
      " [4.16686869]\n",
      " [1.35070707]\n",
      " [2.53454545]]\n"
     ]
    }
   ],
   "source": [
    "# Using reshape function convert X 1D array to 2D array of dimension 97x1\n",
    "#Add columns together to get one linear regression line\n",
    "K = X1 + X2 + X3\n",
    "X_1 = K.reshape(m, 1)\n",
    "print(\"X_1 = \",X_1[:10])"
   ]
  },
  {
   "cell_type": "code",
   "execution_count": 9,
   "id": "0543669e",
   "metadata": {},
   "outputs": [
    {
     "data": {
      "text/plain": [
       "array([[1.        , 3.88      ],\n",
       "       [1.        , 1.06383838],\n",
       "       [1.        , 2.24767677],\n",
       "       [1.        , 3.43151515],\n",
       "       [1.        , 4.61535354]])"
      ]
     },
     "execution_count": 9,
     "metadata": {},
     "output_type": "execute_result"
    }
   ],
   "source": [
    "# Lets use hstack() function from numpy to stack X_0 and X_1 horizontally (i.e. column # This will be our final X matrix (feature matrix)\n",
    "X = np.hstack(( X_0, X_1))\n",
    "X[:5]"
   ]
  },
  {
   "cell_type": "code",
   "execution_count": 10,
   "id": "9430c96a",
   "metadata": {},
   "outputs": [
    {
     "data": {
      "text/plain": [
       "array([0., 0.])"
      ]
     },
     "execution_count": 10,
     "metadata": {},
     "output_type": "execute_result"
    }
   ],
   "source": [
    "theta = np.zeros(2)\n",
    "theta"
   ]
  },
  {
   "cell_type": "code",
   "execution_count": 11,
   "id": "a5ce12f6",
   "metadata": {},
   "outputs": [],
   "source": [
    "def compute_cost(X, y, theta):\n",
    "  \"\"\"\n",
    "  Compute cost for linear regression.\n",
    "\n",
    "  Input Parameters\n",
    "  ----------------\n",
    "  X : 2D array where each row represent the training example and each column represent       m= number of training examples\n",
    "      n= number of features (including X_0 column of ones)\n",
    "  y : 1D array of labels/target value for each traing example. dimension(1 x m)\n",
    "\n",
    "  theta : 1D array of fitting parameters or weights. Dimension (1 x n)\n",
    "\n",
    "  Output Parameters\n",
    "  -----------------\n",
    "  J : Scalar value.\n",
    "  \"\"\"\n",
    "  predictions = X.dot(theta)\n",
    "  errors = np.subtract(predictions, y)\n",
    "  sqrErrors = np.square(errors)\n",
    "  J = 1 / (2 * m) * np.sum(sqrErrors)\n",
    "\n",
    "  return J"
   ]
  },
  {
   "cell_type": "code",
   "execution_count": 12,
   "id": "a4920cf0",
   "metadata": {},
   "outputs": [
    {
     "name": "stdout",
     "output_type": "stream",
     "text": [
      "The cost for given values of theta_0 and theta_1 = 5.524438459196242\n"
     ]
    }
   ],
   "source": [
    "# Lets compute the cost for theta values\n",
    "cost = compute_cost(X, y, theta)\n",
    "print('The cost for given values of theta_0 and theta_1 =', cost)"
   ]
  },
  {
   "cell_type": "code",
   "execution_count": 13,
   "id": "a8844a0f",
   "metadata": {},
   "outputs": [],
   "source": [
    "def gradient_descent(X, y, theta, alpha, iterations):\n",
    "  \"\"\"\n",
    "  Compute cost for linear regression.\n",
    "\n",
    "  Input Parameters\n",
    "  ----------------\n",
    "  X : 2D array where each row represent the training example and each column represent       m= number of training examples\n",
    "      n= number of features (including X_0 column of ones)\n",
    "  y : 1D array of labels/target value for each traing example. dimension(m x 1)\n",
    "  theta : 1D array of fitting parameters or weights. Dimension (1 x n)\n",
    "  alpha : Learning rate. Scalar value\n",
    "  iterations: No of iterations. Scalar value. \n",
    "\n",
    "  Output Parameters\n",
    "  -----------------\n",
    "  theta : Final Value. 1D array of fitting parameters or weights. Dimension (1 x n)\n",
    "  cost_history: Conatins value of cost for each iteration. 1D array. Dimansion(m x 1)\n",
    "  \"\"\"\n",
    "  cost_history = np.zeros(iterations)\n",
    "\n",
    "  for i in range(iterations):\n",
    "    predictions = X.dot(theta)\n",
    "    errors = np.subtract(predictions, y)\n",
    "    sum_delta = (alpha / m) * X.transpose().dot(errors);\n",
    "    theta = theta - sum_delta;\n",
    "    cost_history[i] = compute_cost(X, y, theta)  \n",
    "\n",
    "  return theta, cost_history\n"
   ]
  },
  {
   "cell_type": "code",
   "execution_count": 14,
   "id": "b1526b59",
   "metadata": {},
   "outputs": [],
   "source": [
    "theta = [0., 0.]\n",
    "iterations = 1500;\n",
    "alpha = 0.01;"
   ]
  },
  {
   "cell_type": "code",
   "execution_count": 15,
   "id": "379a21df",
   "metadata": {},
   "outputs": [
    {
     "name": "stdout",
     "output_type": "stream",
     "text": [
      "Final value of theta = [ 4.48162264 -0.46187276]\n",
      "cost_history = [4.94462944 4.73823826 4.6633074  ... 3.01978055 3.01962675 3.01947328]\n"
     ]
    }
   ],
   "source": [
    "theta, cost_history = gradient_descent(X, y, theta, alpha, iterations)\n",
    "print('Final value of theta =', theta)\n",
    "print('cost_history =', cost_history)\n"
   ]
  },
  {
   "cell_type": "code",
   "execution_count": 16,
   "id": "97d1c7ba",
   "metadata": {},
   "outputs": [
    {
     "data": {
      "text/plain": [
       "<matplotlib.legend.Legend at 0x2517af42880>"
      ]
     },
     "execution_count": 16,
     "metadata": {},
     "output_type": "execute_result"
    },
    {
     "data": {
      "image/png": "[encoded data removed]",
      "text/plain": [
       "<Figure size 720x432 with 1 Axes>"
      ]
     },
     "metadata": {
      "needs_background": "light"
     },
     "output_type": "display_data"
    }
   ],
   "source": [
    "# Since X is list of list (feature matrix) lets take values of column of index 1 only\n",
    "plt.scatter(X[:,1], y, color='red', marker= '+', label= 'Training Data')\n",
    "plt.plot(X[:,1],X.dot(theta), color='green', label='Linear Regression')\n",
    "\n",
    "plt.rcParams[\"figure.figsize\"] = (10,6)\n",
    "plt.grid()\n",
    "plt.title('Linear Regression Fit')\n",
    "plt.legend()"
   ]
  },
  {
   "cell_type": "code",
   "execution_count": 17,
   "id": "70729523",
   "metadata": {},
   "outputs": [
    {
     "data": {
      "text/plain": [
       "Text(0.5, 1.0, 'Convergence of gradient descent')"
      ]
     },
     "execution_count": 17,
     "metadata": {},
     "output_type": "execute_result"
    },
    {
     "data": {
      "image/png": "[encoded data removed]",
      "text/plain": [
       "<Figure size 720x432 with 1 Axes>"
      ]
     },
     "metadata": {
      "needs_background": "light"
     },
     "output_type": "display_data"
    }
   ],
   "source": [
    "plt.plot(range(1, iterations + 1),cost_history, color='blue')\n",
    "plt.rcParams[\"figure.figsize\"] = (10,6)\n",
    "plt.grid()\n",
    "plt.xlabel('Number of iterations')\n",
    "plt.ylabel('Cost (J)')\n",
    "plt.title('Convergence of gradient descent')\n"
   ]
  }
 ],
 "metadata": {
  "kernelspec": {
   "display_name": "Python 3 (ipykernel)",
   "language": "python",
   "name": "python3"
  },
  "language_info": {
   "codemirror_mode": {
    "name": "ipython",
    "version": 3
   },
   "file_extension": ".py",
   "mimetype": "text/x-python",
   "name": "python",
   "nbconvert_exporter": "python",
   "pygments_lexer": "ipython3",
   "version": "3.9.12"
  }
 },
 "nbformat": 4,
 "nbformat_minor": 5
}
