{
 "cells": [
  {
   "cell_type": "code",
   "execution_count": null,
   "id": "93bc4130",
   "metadata": {},
   "outputs": [],
   "source": [
    "import torch\n",
    "import SimpleITK as sitk\n",
    "import pandas\n",
    "import glob, os\n",
    "import numpy\n",
    "import tqdm\n",
    "import pylidc\n",
    "from torch.autograd import Variable\n",
    "import pandas as pd\n",
    "import numpy as np\n",
    "from sklearn.linear_model import LinearRegression\n",
    "from sklearn import metrics\n",
    "from sklearn.model_selection import train_test_split\n",
    "from matplotlib import pyplot as plt"
   ]
  },
  {
   "cell_type": "code",
   "execution_count": null,
   "id": "57a1f0fb",
   "metadata": {},
   "outputs": [],
   "source": [
    "t_c = [0.5, 14.0, 15.0, 28.0, 11.0, 8.0, 3.0, -4.0, 6.0, 13.0, 21.0]\n",
    "t_u = [35.7, 55.9, 58.2, 81.9, 56.3, 48.9, 33.9, 21.8, 48.4, 60.4, 68.4]\n",
    "t_c = torch.tensor(t_c)\n",
    "t_u = torch.tensor(t_u)"
   ]
  },
  {
   "cell_type": "code",
   "execution_count": null,
   "id": "09f77eb4",
   "metadata": {},
   "outputs": [],
   "source": [
    "def model(t_u, w1, w2, b):\n",
    "    return w2 * t_u ** 2 + w1 * t_u + b"
   ]
  },
  {
   "cell_type": "code",
   "execution_count": null,
   "id": "83fd3b24",
   "metadata": {},
   "outputs": [],
   "source": [
    "def loss_fn(t_p, t_c):\n",
    "    squared_diffs = (t_p - t_c)**2\n",
    "    return squared_diffs.mean()"
   ]
  },
  {
   "cell_type": "code",
   "execution_count": null,
   "id": "ab2218a0",
   "metadata": {},
   "outputs": [],
   "source": [
    "w1 = torch.ones(())\n",
    "w2 = torch.ones(())\n",
    "b = torch.zeros(()) \n",
    "t_p = model(t_u, w1, w2, b)\n",
    "t_p"
   ]
  },
  {
   "cell_type": "code",
   "execution_count": null,
   "id": "4f8a2d5f",
   "metadata": {},
   "outputs": [],
   "source": [
    "loss = loss_fn(t_p, t_c)\n",
    "loss"
   ]
  },
  {
   "cell_type": "code",
   "execution_count": null,
   "id": "bddd4c1a",
   "metadata": {},
   "outputs": [],
   "source": [
    "delta = 0.1\n",
    "loss_rate_of_change_w = \\\n",
    "(loss_fn(model(t_u, w1 + delta, w2 + delta, b), t_c) -\n",
    "loss_fn(model(t_u, w1- delta, w2 - delta, b), t_c)) / (2.0 * delta)"
   ]
  },
  {
   "cell_type": "code",
   "execution_count": null,
   "id": "2ae735a2",
   "metadata": {},
   "outputs": [],
   "source": [
    "learning_rate = 1e-4\n",
    "w1 = w1 - learning_rate * loss_rate_of_change_w"
   ]
  },
  {
   "cell_type": "code",
   "execution_count": null,
   "id": "d9502d76",
   "metadata": {},
   "outputs": [],
   "source": [
    "loss_rate_of_change_b = \\\n",
    "(loss_fn(model(t_u, w1, w2, b + delta), t_c) -\n",
    "loss_fn(model(t_u, w1, w2, b - delta), t_c)) / (2.0 * delta)\n",
    "b = b - learning_rate * loss_rate_of_change_b"
   ]
  },
  {
   "cell_type": "code",
   "execution_count": null,
   "id": "1c21ff89",
   "metadata": {},
   "outputs": [],
   "source": [
    "def model(t_u, w1, w2, b):\n",
    "    return w2 * t_u ** 2 + w1 * t_u + b"
   ]
  },
  {
   "cell_type": "code",
   "execution_count": null,
   "id": "da7af63f",
   "metadata": {},
   "outputs": [],
   "source": [
    "def loss_fn(t_p, t_c):\n",
    "    squared_diffs = (t_p - t_c)**2\n",
    "    return squared_diffs.mean()"
   ]
  },
  {
   "cell_type": "code",
   "execution_count": null,
   "id": "2eb4efd6",
   "metadata": {},
   "outputs": [],
   "source": [
    "def dloss_fn(t_p, t_c):\n",
    "    dsq_diffs = 2 * (t_p - t_c) / t_p.size(0)\n",
    "    return dsq_diffs"
   ]
  },
  {
   "cell_type": "code",
   "execution_count": null,
   "id": "0ef7c395",
   "metadata": {},
   "outputs": [],
   "source": [
    "def dmodel_dw(t_u, w1, w2, b):\n",
    "    return t_u"
   ]
  },
  {
   "cell_type": "code",
   "execution_count": null,
   "id": "73dc1b5a",
   "metadata": {},
   "outputs": [],
   "source": [
    "def dmodel_db(t_u, w1, w2, b):\n",
    "    return 1.0"
   ]
  },
  {
   "cell_type": "code",
   "execution_count": null,
   "id": "c93e9b30",
   "metadata": {},
   "outputs": [],
   "source": [
    "def grad_fn(t_u, t_c, t_p, w1, w2, b):\n",
    "    dloss_dtp = dloss_fn(t_p, t_c)\n",
    "    dloss_dw1 = dloss_dtp * dmodel_dw(t_u, w1, w2, b)\n",
    "    dloss_dw2 = dloss_dtp * dmodel_dw(t_u, w1, w2, b)\n",
    "    dloss_db = dloss_dtp * dmodel_db(t_u, w1, w2, b)\n",
    "    return torch.stack([dloss_dw1.sum(), dloss_dw2.sum(), dloss_db.sum()])"
   ]
  },
  {
   "cell_type": "code",
   "execution_count": null,
   "id": "8dbae117",
   "metadata": {},
   "outputs": [],
   "source": [
    "def training_loop(n_epochs, learning_rate, params, t_u, t_c):\n",
    "    for epoch in range(1, n_epochs + 1):\n",
    "        w1, w2, b = params\n",
    "        \n",
    "        t_p = model(t_u, w1, w2, b)\n",
    "        loss = loss_fn(t_p, t_c)\n",
    "        grad = grad_fn(t_u, t_c, t_p, w1, w2, b)\n",
    "        \n",
    "        params = params - learning_rate * grad\n",
    "        if epoch % 500 == 0 or epoch == 1: \n",
    "            print('Epoch %d, Loss %f' % (epoch, float(loss)))\n",
    "        \n",
    "    return params"
   ]
  },
  {
   "cell_type": "code",
   "execution_count": null,
   "id": "be753afa",
   "metadata": {},
   "outputs": [],
   "source": [
    "t_un = 0.1 * t_u\n",
    "training_loop(\n",
    "n_epochs = 5000,\n",
    "learning_rate = 1e-1,\n",
    "params = torch.tensor([1.0, 1.0, 0.0]),\n",
    "t_u = t_un,\n",
    "t_c = t_c)"
   ]
  },
  {
   "cell_type": "code",
   "execution_count": null,
   "id": "24d88719",
   "metadata": {},
   "outputs": [],
   "source": [
    "t_un = 0.1 * t_u\n",
    "training_loop(\n",
    "n_epochs = 5000,\n",
    "learning_rate = 1e-2,\n",
    "params = torch.tensor([1.0, 1.0, 0.0]),\n",
    "t_u = t_un,\n",
    "t_c = t_c)"
   ]
  },
  {
   "cell_type": "code",
   "execution_count": null,
   "id": "623cb114",
   "metadata": {},
   "outputs": [],
   "source": [
    "t_un = 0.1 * t_u\n",
    "training_loop(\n",
    "n_epochs = 5000,\n",
    "learning_rate = 1e-3,\n",
    "params = torch.tensor([1.0, 1.0, 0.0]),\n",
    "t_u = t_un,\n",
    "t_c = t_c)"
   ]
  },
  {
   "cell_type": "code",
   "execution_count": null,
   "id": "72fc50b5",
   "metadata": {},
   "outputs": [],
   "source": [
    "t_un = 0.1 * t_u\n",
    "training_loop(\n",
    "n_epochs = 5000,\n",
    "learning_rate = 1e-4,\n",
    "params = torch.tensor([1.0, 1.0, 0.0]),\n",
    "t_u = t_un,\n",
    "t_c = t_c)"
   ]
  },
  {
   "cell_type": "code",
   "execution_count": null,
   "id": "370ca965",
   "metadata": {},
   "outputs": [],
   "source": [
    "Housing = pd.read_csv('Housing.csv')\n",
    "Housing.head()"
   ]
  },
  {
   "cell_type": "code",
   "execution_count": null,
   "id": "53f941c7",
   "metadata": {},
   "outputs": [],
   "source": [
    "X = Housing[['area', 'bedrooms', 'bathrooms','stories', 'parking']]\n",
    "y = Housing['price']"
   ]
  },
  {
   "cell_type": "code",
   "execution_count": null,
   "id": "1cf23762",
   "metadata": {},
   "outputs": [],
   "source": [
    "X_train, X_test, y_train, y_test = train_test_split(X, y, train_size = 0.80, test_size=0.2, random_state=101)"
   ]
  },
  {
   "cell_type": "code",
   "execution_count": null,
   "id": "049ea8f6",
   "metadata": {},
   "outputs": [],
   "source": [
    "lm = LinearRegression()\n",
    "lm.fit(X_train,y_train)"
   ]
  },
  {
   "cell_type": "code",
   "execution_count": null,
   "id": "b29a1e2e",
   "metadata": {},
   "outputs": [],
   "source": [
    "coeff_df = pd.DataFrame(lm.coef_,X.columns,columns=['Coefficient'])\n",
    "coeff_df"
   ]
  },
  {
   "cell_type": "code",
   "execution_count": null,
   "id": "a8d26738",
   "metadata": {},
   "outputs": [],
   "source": [
    "predictions = lm.predict(X_test)\n",
    "plt.scatter(y_test,predictions)"
   ]
  },
  {
   "cell_type": "code",
   "execution_count": null,
   "id": "19767fb3",
   "metadata": {},
   "outputs": [],
   "source": [
    "print('RMSE:', np.sqrt(metrics.mean_squared_error(y_test, predictions)))"
   ]
  },
  {
   "cell_type": "code",
   "execution_count": null,
   "id": "843ab3e6",
   "metadata": {},
   "outputs": [],
   "source": [
    "class DataMaker(Data.Dataset):\n",
    "    def __init__(self, X, y):\n",
    "        # scaler = StandardScaler()\n",
    "        scaler = MinMaxScaler()\n",
    "        self.targets = scaler.fit_transform(X.astype(np.float32))\n",
    "        self.labels = y.astype(np.float32)\n",
    "    \n",
    "    def __getitem__(self, i):\n",
    "        return self.targets[i, :], self.labels[i]\n",
    "\n",
    "    def __len__(self):\n",
    "        return len(self.targets)"
   ]
  },
  {
   "cell_type": "code",
   "execution_count": null,
   "id": "c5afbd87",
   "metadata": {},
   "outputs": [],
   "source": [
    "class Model(nn.Module):\n",
    "    def __init__(self, n_features, hiddenA, hiddenB):\n",
    "        super(Model, self).__init__()\n",
    "        self.linearA = nn.Linear(n_features, hiddenA)\n",
    "        self.linearB = nn.Linear(hiddenA, hiddenB)\n",
    "        self.linearC = nn.Linear(hiddenB, 1)\n",
    "\n",
    "    def forward(self, x):\n",
    "        yA = F.relu(self.linearA(x))\n",
    "        yB = F.relu(self.linearB(yA))\n",
    "        return self.linearC(yB)"
   ]
  },
  {
   "cell_type": "code",
   "execution_count": null,
   "id": "e61293a2",
   "metadata": {},
   "outputs": [],
   "source": [
    "torch.manual_seed(1)"
   ]
  },
  {
   "cell_type": "code",
   "execution_count": null,
   "id": "da5faaff",
   "metadata": {},
   "outputs": [],
   "source": [
    "train_set = DataMaker(X_train, y_train)\n",
    "test_set = DataMaker(X_test, y_test)"
   ]
  },
  {
   "cell_type": "code",
   "execution_count": null,
   "id": "182fb72e",
   "metadata": {},
   "outputs": [],
   "source": [
    "bs = 25\n",
    "train_loader = Data.DataLoader(train_set, batch_size=bs, shuffle=True)\n",
    "test_loader = Data.DataLoader(test_set, batch_size=bs, shuffle=True)"
   ]
  },
  {
   "cell_type": "code",
   "execution_count": null,
   "id": "40f6e0f4",
   "metadata": {},
   "outputs": [],
   "source": [
    "net = Model(n_features, 100, 50)"
   ]
  },
  {
   "cell_type": "code",
   "execution_count": null,
   "id": "937f2a66",
   "metadata": {},
   "outputs": [],
   "source": [
    "criterion = nn.MSELoss(size_average=False)\n",
    "optimizer = optim.Adam(net.parameters(), lr=0.01)"
   ]
  },
  {
   "cell_type": "code",
   "execution_count": null,
   "id": "037550c5",
   "metadata": {},
   "outputs": [],
   "source": [
    "n_epochs = 200\n",
    "all_losses = []\n",
    "for epoch in range(n_epochs):\n",
    "    progress_bar = tqdm.notebook.tqdm(train_loader, leave=False)\n",
    "    losses = []\n",
    "    total = 0\n",
    "    for inputs, target in progress_bar:\n",
    "        optimizer.zero_grad()\n",
    "        y_pred = net(inputs)\n",
    "        loss = criterion(y_pred, torch.unsqueeze(target,dim=1))\n",
    "\n",
    "        loss.backward()\n",
    "        \n",
    "        optimizer.step()\n",
    "        \n",
    "        progress_bar.set_description(f'Loss: {loss.item():.3f}')\n",
    "        \n",
    "        losses.append(loss.item())\n",
    "        total += 1\n",
    "\n",
    "    epoch_loss = sum(losses) / total\n",
    "    all_losses.append(epoch_loss)\n",
    "                \n",
    "    mess = f\"Epoch #{epoch+1}\\tLoss: {all_losses[-1]:.3f}\"\n",
    "    tqdm.tqdm.write(mess)"
   ]
  },
  {
   "cell_type": "code",
   "execution_count": null,
   "id": "2b67bcaa",
   "metadata": {},
   "outputs": [],
   "source": [
    "plt.plot(all_losses)"
   ]
  },
  {
   "cell_type": "code",
   "execution_count": null,
   "id": "ae9eaf16",
   "metadata": {},
   "outputs": [],
   "source": [
    "y_pred = []\n",
    "y_true = []\n",
    "net.train(False)\n",
    "for inputs, targets in test_loader:\n",
    "    y_pred.extend(net(inputs).data.numpy())\n",
    "    y_true.extend(targets.numpy())\n",
    "plt.scatter(y_pred, y_true)\n",
    "plt.plot([0, 50], [0, 50], '--k')"
   ]
  },
  {
   "cell_type": "code",
   "execution_count": null,
   "id": "3791f89b",
   "metadata": {},
   "outputs": [],
   "source": [
    "print(\"MAE:\", mean_absolute_error(y_true, y_pred))\n",
    "print(\"MSE:\", mean_squared_error(y_true, y_pred))\n",
    "print(\"R^2:\", r2_score(y_true, y_pred))"
   ]
  },
  {
   "cell_type": "code",
   "execution_count": 1,
   "id": "5fcdd791",
   "metadata": {},
   "outputs": [
    {
     "ename": "NameError",
     "evalue": "name 'X_train' is not defined",
     "output_type": "error",
     "traceback": [
      "\u001b[1;31m---------------------------------------------------------------------------\u001b[0m",
      "\u001b[1;31mNameError\u001b[0m                                 Traceback (most recent call last)",
      "Input \u001b[1;32mIn [1]\u001b[0m, in \u001b[0;36m<cell line: 10>\u001b[1;34m()\u001b[0m\n\u001b[0;32m      3\u001b[0m \u001b[38;5;28;01mfrom\u001b[39;00m \u001b[38;5;21;01msklearn\u001b[39;00m\u001b[38;5;21;01m.\u001b[39;00m\u001b[38;5;21;01mpreprocessing\u001b[39;00m \u001b[38;5;28;01mimport\u001b[39;00m QuantileTransformer\n\u001b[0;32m      5\u001b[0m regr_trans \u001b[38;5;241m=\u001b[39m TransformedTargetRegressor(\n\u001b[0;32m      6\u001b[0m     regressor\u001b[38;5;241m=\u001b[39mRidgeCV(),\n\u001b[0;32m      7\u001b[0m     transformer\u001b[38;5;241m=\u001b[39mQuantileTransformer(\n\u001b[0;32m      8\u001b[0m         n_quantiles\u001b[38;5;241m=\u001b[39m\u001b[38;5;241m300\u001b[39m, output_distribution\u001b[38;5;241m=\u001b[39m\u001b[38;5;124m'\u001b[39m\u001b[38;5;124mnormal\u001b[39m\u001b[38;5;124m'\u001b[39m))\n\u001b[1;32m---> 10\u001b[0m regr_trans\u001b[38;5;241m.\u001b[39mfit(\u001b[43mX_train\u001b[49m, y_train)\n\u001b[0;32m     11\u001b[0m y_pred \u001b[38;5;241m=\u001b[39m regr_trans\u001b[38;5;241m.\u001b[39mpredict(X_test)\n\u001b[0;32m     12\u001b[0m plt\u001b[38;5;241m.\u001b[39mscatter(y_pred, y_test)\n",
      "\u001b[1;31mNameError\u001b[0m: name 'X_train' is not defined"
     ]
    }
   ],
   "source": [
    "from sklearn.compose import TransformedTargetRegressor\n",
    "from sklearn.linear_model import RidgeCV\n",
    "from sklearn.preprocessing import QuantileTransformer\n",
    "\n",
    "regr_trans = TransformedTargetRegressor(\n",
    "    regressor=RidgeCV(),\n",
    "    transformer=QuantileTransformer(\n",
    "        n_quantiles=300, output_distribution='normal'))\n",
    "\n",
    "regr_trans.fit(X_train, y_train)\n",
    "y_pred = regr_trans.predict(X_test)\n",
    "plt.scatter(y_pred, y_test)\n",
    "plt.plot([0, 50], [0, 50], '--k')\n",
    "print(\"MAE:\", mean_absolute_error(y_test, y_pred))\n",
    "print(\"MSE:\", mean_squared_error(y_test, y_pred))\n",
    "print(\"R^2:\", r2_score(y_test, y_pred))"
   ]
  }
 ],
 "metadata": {
  "kernelspec": {
   "display_name": "Python 3 (ipykernel)",
   "language": "python",
   "name": "python3"
  },
  "language_info": {
   "codemirror_mode": {
    "name": "ipython",
    "version": 3
   },
   "file_extension": ".py",
   "mimetype": "text/x-python",
   "name": "python",
   "nbconvert_exporter": "python",
   "pygments_lexer": "ipython3",
   "version": "3.9.12"
  }
 },
 "nbformat": 4,
 "nbformat_minor": 5
}
