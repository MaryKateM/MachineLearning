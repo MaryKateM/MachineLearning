{
 "cells": [
  {
   "cell_type": "code",
   "execution_count": 1,
   "id": "9fdb8922",
   "metadata": {},
   "outputs": [],
   "source": [
    "import numpy as np\n",
    "import pandas as pd\n",
    "import matplotlib.pyplot as plt\n",
    "import seaborn as sns"
   ]
  },
  {
   "cell_type": "code",
   "execution_count": 2,
   "id": "a45e8332",
   "metadata": {},
   "outputs": [
    {
     "data": {
      "text/html": [
       "<div>\n",
       "<style scoped>\n",
       "    .dataframe tbody tr th:only-of-type {\n",
       "        vertical-align: middle;\n",
       "    }\n",
       "\n",
       "    .dataframe tbody tr th {\n",
       "        vertical-align: top;\n",
       "    }\n",
       "\n",
       "    .dataframe thead th {\n",
       "        text-align: right;\n",
       "    }\n",
       "</style>\n",
       "<table border=\"1\" class=\"dataframe\">\n",
       "  <thead>\n",
       "    <tr style=\"text-align: right;\">\n",
       "      <th></th>\n",
       "      <th>price</th>\n",
       "      <th>area</th>\n",
       "      <th>bedrooms</th>\n",
       "      <th>bathrooms</th>\n",
       "      <th>stories</th>\n",
       "      <th>mainroad</th>\n",
       "      <th>guestroom</th>\n",
       "      <th>basement</th>\n",
       "      <th>hotwaterheating</th>\n",
       "      <th>airconditioning</th>\n",
       "      <th>parking</th>\n",
       "      <th>prefarea</th>\n",
       "      <th>furnishingstatus</th>\n",
       "    </tr>\n",
       "  </thead>\n",
       "  <tbody>\n",
       "    <tr>\n",
       "      <th>0</th>\n",
       "      <td>13300000</td>\n",
       "      <td>7420</td>\n",
       "      <td>4</td>\n",
       "      <td>2</td>\n",
       "      <td>3</td>\n",
       "      <td>yes</td>\n",
       "      <td>no</td>\n",
       "      <td>no</td>\n",
       "      <td>no</td>\n",
       "      <td>yes</td>\n",
       "      <td>2</td>\n",
       "      <td>yes</td>\n",
       "      <td>furnished</td>\n",
       "    </tr>\n",
       "    <tr>\n",
       "      <th>1</th>\n",
       "      <td>12250000</td>\n",
       "      <td>8960</td>\n",
       "      <td>4</td>\n",
       "      <td>4</td>\n",
       "      <td>4</td>\n",
       "      <td>yes</td>\n",
       "      <td>no</td>\n",
       "      <td>no</td>\n",
       "      <td>no</td>\n",
       "      <td>yes</td>\n",
       "      <td>3</td>\n",
       "      <td>no</td>\n",
       "      <td>furnished</td>\n",
       "    </tr>\n",
       "    <tr>\n",
       "      <th>2</th>\n",
       "      <td>12250000</td>\n",
       "      <td>9960</td>\n",
       "      <td>3</td>\n",
       "      <td>2</td>\n",
       "      <td>2</td>\n",
       "      <td>yes</td>\n",
       "      <td>no</td>\n",
       "      <td>yes</td>\n",
       "      <td>no</td>\n",
       "      <td>no</td>\n",
       "      <td>2</td>\n",
       "      <td>yes</td>\n",
       "      <td>semi-furnished</td>\n",
       "    </tr>\n",
       "    <tr>\n",
       "      <th>3</th>\n",
       "      <td>12215000</td>\n",
       "      <td>7500</td>\n",
       "      <td>4</td>\n",
       "      <td>2</td>\n",
       "      <td>2</td>\n",
       "      <td>yes</td>\n",
       "      <td>no</td>\n",
       "      <td>yes</td>\n",
       "      <td>no</td>\n",
       "      <td>yes</td>\n",
       "      <td>3</td>\n",
       "      <td>yes</td>\n",
       "      <td>furnished</td>\n",
       "    </tr>\n",
       "    <tr>\n",
       "      <th>4</th>\n",
       "      <td>11410000</td>\n",
       "      <td>7420</td>\n",
       "      <td>4</td>\n",
       "      <td>1</td>\n",
       "      <td>2</td>\n",
       "      <td>yes</td>\n",
       "      <td>yes</td>\n",
       "      <td>yes</td>\n",
       "      <td>no</td>\n",
       "      <td>yes</td>\n",
       "      <td>2</td>\n",
       "      <td>no</td>\n",
       "      <td>furnished</td>\n",
       "    </tr>\n",
       "  </tbody>\n",
       "</table>\n",
       "</div>"
      ],
      "text/plain": [
       "      price  area  bedrooms  bathrooms  stories mainroad guestroom basement  \\\n",
       "0  13300000  7420         4          2        3      yes        no       no   \n",
       "1  12250000  8960         4          4        4      yes        no       no   \n",
       "2  12250000  9960         3          2        2      yes        no      yes   \n",
       "3  12215000  7500         4          2        2      yes        no      yes   \n",
       "4  11410000  7420         4          1        2      yes       yes      yes   \n",
       "\n",
       "  hotwaterheating airconditioning  parking prefarea furnishingstatus  \n",
       "0              no             yes        2      yes        furnished  \n",
       "1              no             yes        3       no        furnished  \n",
       "2              no              no        2      yes   semi-furnished  \n",
       "3              no             yes        3      yes        furnished  \n",
       "4              no             yes        2       no        furnished  "
      ]
     },
     "execution_count": 2,
     "metadata": {},
     "output_type": "execute_result"
    }
   ],
   "source": [
    "housing = pd.DataFrame(pd.read_csv(\"Housing.csv\"))\n",
    "housing.head()"
   ]
  },
  {
   "cell_type": "code",
   "execution_count": 3,
   "id": "13af34a2",
   "metadata": {},
   "outputs": [
    {
     "data": {
      "text/plain": [
       "545"
      ]
     },
     "execution_count": 3,
     "metadata": {},
     "output_type": "execute_result"
    }
   ],
   "source": [
    "m = len(housing)\n",
    "m"
   ]
  },
  {
   "cell_type": "code",
   "execution_count": 4,
   "id": "8988f4ad",
   "metadata": {},
   "outputs": [
    {
     "data": {
      "text/plain": [
       "(545, 13)"
      ]
     },
     "execution_count": 4,
     "metadata": {},
     "output_type": "execute_result"
    }
   ],
   "source": [
    "housing.shape"
   ]
  },
  {
   "cell_type": "code",
   "execution_count": 5,
   "id": "f09a2ab9",
   "metadata": {},
   "outputs": [
    {
     "data": {
      "text/html": [
       "<div>\n",
       "<style scoped>\n",
       "    .dataframe tbody tr th:only-of-type {\n",
       "        vertical-align: middle;\n",
       "    }\n",
       "\n",
       "    .dataframe tbody tr th {\n",
       "        vertical-align: top;\n",
       "    }\n",
       "\n",
       "    .dataframe thead th {\n",
       "        text-align: right;\n",
       "    }\n",
       "</style>\n",
       "<table border=\"1\" class=\"dataframe\">\n",
       "  <thead>\n",
       "    <tr style=\"text-align: right;\">\n",
       "      <th></th>\n",
       "      <th>price</th>\n",
       "      <th>area</th>\n",
       "      <th>bedrooms</th>\n",
       "      <th>bathrooms</th>\n",
       "      <th>stories</th>\n",
       "      <th>mainroad</th>\n",
       "      <th>guestroom</th>\n",
       "      <th>basement</th>\n",
       "      <th>hotwaterheating</th>\n",
       "      <th>airconditioning</th>\n",
       "      <th>parking</th>\n",
       "      <th>prefarea</th>\n",
       "      <th>furnishingstatus</th>\n",
       "    </tr>\n",
       "  </thead>\n",
       "  <tbody>\n",
       "    <tr>\n",
       "      <th>0</th>\n",
       "      <td>13300000</td>\n",
       "      <td>7420</td>\n",
       "      <td>4</td>\n",
       "      <td>2</td>\n",
       "      <td>3</td>\n",
       "      <td>1</td>\n",
       "      <td>0</td>\n",
       "      <td>0</td>\n",
       "      <td>0</td>\n",
       "      <td>1</td>\n",
       "      <td>2</td>\n",
       "      <td>1</td>\n",
       "      <td>NaN</td>\n",
       "    </tr>\n",
       "    <tr>\n",
       "      <th>1</th>\n",
       "      <td>12250000</td>\n",
       "      <td>8960</td>\n",
       "      <td>4</td>\n",
       "      <td>4</td>\n",
       "      <td>4</td>\n",
       "      <td>1</td>\n",
       "      <td>0</td>\n",
       "      <td>0</td>\n",
       "      <td>0</td>\n",
       "      <td>1</td>\n",
       "      <td>3</td>\n",
       "      <td>0</td>\n",
       "      <td>NaN</td>\n",
       "    </tr>\n",
       "    <tr>\n",
       "      <th>2</th>\n",
       "      <td>12250000</td>\n",
       "      <td>9960</td>\n",
       "      <td>3</td>\n",
       "      <td>2</td>\n",
       "      <td>2</td>\n",
       "      <td>1</td>\n",
       "      <td>0</td>\n",
       "      <td>1</td>\n",
       "      <td>0</td>\n",
       "      <td>0</td>\n",
       "      <td>2</td>\n",
       "      <td>1</td>\n",
       "      <td>NaN</td>\n",
       "    </tr>\n",
       "    <tr>\n",
       "      <th>3</th>\n",
       "      <td>12215000</td>\n",
       "      <td>7500</td>\n",
       "      <td>4</td>\n",
       "      <td>2</td>\n",
       "      <td>2</td>\n",
       "      <td>1</td>\n",
       "      <td>0</td>\n",
       "      <td>1</td>\n",
       "      <td>0</td>\n",
       "      <td>1</td>\n",
       "      <td>3</td>\n",
       "      <td>1</td>\n",
       "      <td>NaN</td>\n",
       "    </tr>\n",
       "    <tr>\n",
       "      <th>4</th>\n",
       "      <td>11410000</td>\n",
       "      <td>7420</td>\n",
       "      <td>4</td>\n",
       "      <td>1</td>\n",
       "      <td>2</td>\n",
       "      <td>1</td>\n",
       "      <td>1</td>\n",
       "      <td>1</td>\n",
       "      <td>0</td>\n",
       "      <td>1</td>\n",
       "      <td>2</td>\n",
       "      <td>0</td>\n",
       "      <td>NaN</td>\n",
       "    </tr>\n",
       "  </tbody>\n",
       "</table>\n",
       "</div>"
      ],
      "text/plain": [
       "      price  area  bedrooms  bathrooms  stories  mainroad  guestroom  \\\n",
       "0  13300000  7420         4          2        3         1          0   \n",
       "1  12250000  8960         4          4        4         1          0   \n",
       "2  12250000  9960         3          2        2         1          0   \n",
       "3  12215000  7500         4          2        2         1          0   \n",
       "4  11410000  7420         4          1        2         1          1   \n",
       "\n",
       "   basement  hotwaterheating  airconditioning  parking  prefarea  \\\n",
       "0         0                0                1        2         1   \n",
       "1         0                0                1        3         0   \n",
       "2         1                0                0        2         1   \n",
       "3         1                0                1        3         1   \n",
       "4         1                0                1        2         0   \n",
       "\n",
       "   furnishingstatus  \n",
       "0               NaN  \n",
       "1               NaN  \n",
       "2               NaN  \n",
       "3               NaN  \n",
       "4               NaN  "
      ]
     },
     "execution_count": 5,
     "metadata": {},
     "output_type": "execute_result"
    }
   ],
   "source": [
    "#List of variables to map\n",
    "varlist = ['mainroad', 'guestroom', 'basement', 'hotwaterheating', 'airconditioning', 'prefarea', 'furnishingstatus']\n",
    "#Defining the map function\n",
    "def binary_map(x):\n",
    "    return x.map({'yes': 1, \"no\": 0 })\n",
    "#Applying the function to the housing list\n",
    "housing[varlist] = housing[varlist].apply(binary_map)\n",
    "#check the dataframe\n",
    "housing.head()"
   ]
  },
  {
   "cell_type": "code",
   "execution_count": 6,
   "id": "e07ee04d",
   "metadata": {},
   "outputs": [
    {
     "data": {
      "text/plain": [
       "(436, 13)"
      ]
     },
     "execution_count": 6,
     "metadata": {},
     "output_type": "execute_result"
    }
   ],
   "source": [
    "#splitting the data into training and testing sets\n",
    "from sklearn.model_selection import train_test_split\n",
    "\n",
    "#train and test data set always have the smae rows\n",
    "np.random.seed(0)\n",
    "df_train, df_test = train_test_split(housing, train_size = 0.8, test_size = 0.2)\n",
    "df_train.shape"
   ]
  },
  {
   "cell_type": "code",
   "execution_count": 7,
   "id": "3f5b35d6",
   "metadata": {},
   "outputs": [
    {
     "data": {
      "text/plain": [
       "(109, 13)"
      ]
     },
     "execution_count": 7,
     "metadata": {},
     "output_type": "execute_result"
    }
   ],
   "source": [
    "df_test.shape"
   ]
  },
  {
   "cell_type": "code",
   "execution_count": 8,
   "id": "48929bd8",
   "metadata": {},
   "outputs": [
    {
     "data": {
      "text/html": [
       "<div>\n",
       "<style scoped>\n",
       "    .dataframe tbody tr th:only-of-type {\n",
       "        vertical-align: middle;\n",
       "    }\n",
       "\n",
       "    .dataframe tbody tr th {\n",
       "        vertical-align: top;\n",
       "    }\n",
       "\n",
       "    .dataframe thead th {\n",
       "        text-align: right;\n",
       "    }\n",
       "</style>\n",
       "<table border=\"1\" class=\"dataframe\">\n",
       "  <thead>\n",
       "    <tr style=\"text-align: right;\">\n",
       "      <th></th>\n",
       "      <th>area</th>\n",
       "      <th>bedrooms</th>\n",
       "      <th>bathrooms</th>\n",
       "      <th>stories</th>\n",
       "      <th>parking</th>\n",
       "      <th>price</th>\n",
       "    </tr>\n",
       "  </thead>\n",
       "  <tbody>\n",
       "    <tr>\n",
       "      <th>542</th>\n",
       "      <td>3620</td>\n",
       "      <td>2</td>\n",
       "      <td>1</td>\n",
       "      <td>1</td>\n",
       "      <td>0</td>\n",
       "      <td>1750000</td>\n",
       "    </tr>\n",
       "    <tr>\n",
       "      <th>496</th>\n",
       "      <td>4000</td>\n",
       "      <td>2</td>\n",
       "      <td>1</td>\n",
       "      <td>1</td>\n",
       "      <td>0</td>\n",
       "      <td>2695000</td>\n",
       "    </tr>\n",
       "    <tr>\n",
       "      <th>484</th>\n",
       "      <td>3040</td>\n",
       "      <td>2</td>\n",
       "      <td>1</td>\n",
       "      <td>1</td>\n",
       "      <td>0</td>\n",
       "      <td>2870000</td>\n",
       "    </tr>\n",
       "    <tr>\n",
       "      <th>507</th>\n",
       "      <td>3600</td>\n",
       "      <td>2</td>\n",
       "      <td>1</td>\n",
       "      <td>1</td>\n",
       "      <td>0</td>\n",
       "      <td>2590000</td>\n",
       "    </tr>\n",
       "    <tr>\n",
       "      <th>252</th>\n",
       "      <td>9860</td>\n",
       "      <td>3</td>\n",
       "      <td>1</td>\n",
       "      <td>1</td>\n",
       "      <td>0</td>\n",
       "      <td>4515000</td>\n",
       "    </tr>\n",
       "  </tbody>\n",
       "</table>\n",
       "</div>"
      ],
      "text/plain": [
       "     area  bedrooms  bathrooms  stories  parking    price\n",
       "542  3620         2          1        1        0  1750000\n",
       "496  4000         2          1        1        0  2695000\n",
       "484  3040         2          1        1        0  2870000\n",
       "507  3600         2          1        1        0  2590000\n",
       "252  9860         3          1        1        0  4515000"
      ]
     },
     "execution_count": 8,
     "metadata": {},
     "output_type": "execute_result"
    }
   ],
   "source": [
    "num_vars = ['area', 'bedrooms', 'bathrooms', 'stories', 'parking', 'price']\n",
    "df_Newtrain = df_train[num_vars]\n",
    "df_Newtest = df_test[num_vars]\n",
    "df_Newtrain.head()"
   ]
  },
  {
   "cell_type": "code",
   "execution_count": 9,
   "id": "a8003df8",
   "metadata": {},
   "outputs": [
    {
     "data": {
      "text/plain": [
       "(436, 6)"
      ]
     },
     "execution_count": 9,
     "metadata": {},
     "output_type": "execute_result"
    }
   ],
   "source": [
    "df_Newtrain.shape"
   ]
  },
  {
   "cell_type": "code",
   "execution_count": 10,
   "id": "50101afc",
   "metadata": {},
   "outputs": [
    {
     "name": "stderr",
     "output_type": "stream",
     "text": [
      "C:\\Users\\mkmye\\AppData\\Local\\Temp\\ipykernel_24784\\3778825175.py:5: SettingWithCopyWarning: \n",
      "A value is trying to be set on a copy of a slice from a DataFrame.\n",
      "Try using .loc[row_indexer,col_indexer] = value instead\n",
      "\n",
      "See the caveats in the documentation: https://pandas.pydata.org/pandas-docs/stable/user_guide/indexing.html#returning-a-view-versus-a-copy\n",
      "  df_Newtrain[num_vars] = scaler.fit_transform(df_Newtrain[num_vars])\n"
     ]
    },
    {
     "data": {
      "text/html": [
       "<div>\n",
       "<style scoped>\n",
       "    .dataframe tbody tr th:only-of-type {\n",
       "        vertical-align: middle;\n",
       "    }\n",
       "\n",
       "    .dataframe tbody tr th {\n",
       "        vertical-align: top;\n",
       "    }\n",
       "\n",
       "    .dataframe thead th {\n",
       "        text-align: right;\n",
       "    }\n",
       "</style>\n",
       "<table border=\"1\" class=\"dataframe\">\n",
       "  <thead>\n",
       "    <tr style=\"text-align: right;\">\n",
       "      <th></th>\n",
       "      <th>area</th>\n",
       "      <th>bedrooms</th>\n",
       "      <th>bathrooms</th>\n",
       "      <th>stories</th>\n",
       "      <th>parking</th>\n",
       "      <th>price</th>\n",
       "    </tr>\n",
       "  </thead>\n",
       "  <tbody>\n",
       "    <tr>\n",
       "      <th>542</th>\n",
       "      <td>0.124199</td>\n",
       "      <td>0.2</td>\n",
       "      <td>0.0</td>\n",
       "      <td>0.0</td>\n",
       "      <td>0.0</td>\n",
       "      <td>0.000000</td>\n",
       "    </tr>\n",
       "    <tr>\n",
       "      <th>496</th>\n",
       "      <td>0.150654</td>\n",
       "      <td>0.2</td>\n",
       "      <td>0.0</td>\n",
       "      <td>0.0</td>\n",
       "      <td>0.0</td>\n",
       "      <td>0.081818</td>\n",
       "    </tr>\n",
       "    <tr>\n",
       "      <th>484</th>\n",
       "      <td>0.083821</td>\n",
       "      <td>0.2</td>\n",
       "      <td>0.0</td>\n",
       "      <td>0.0</td>\n",
       "      <td>0.0</td>\n",
       "      <td>0.096970</td>\n",
       "    </tr>\n",
       "    <tr>\n",
       "      <th>507</th>\n",
       "      <td>0.122807</td>\n",
       "      <td>0.2</td>\n",
       "      <td>0.0</td>\n",
       "      <td>0.0</td>\n",
       "      <td>0.0</td>\n",
       "      <td>0.072727</td>\n",
       "    </tr>\n",
       "    <tr>\n",
       "      <th>252</th>\n",
       "      <td>0.558619</td>\n",
       "      <td>0.4</td>\n",
       "      <td>0.0</td>\n",
       "      <td>0.0</td>\n",
       "      <td>0.0</td>\n",
       "      <td>0.239394</td>\n",
       "    </tr>\n",
       "  </tbody>\n",
       "</table>\n",
       "</div>"
      ],
      "text/plain": [
       "         area  bedrooms  bathrooms  stories  parking     price\n",
       "542  0.124199       0.2        0.0      0.0      0.0  0.000000\n",
       "496  0.150654       0.2        0.0      0.0      0.0  0.081818\n",
       "484  0.083821       0.2        0.0      0.0      0.0  0.096970\n",
       "507  0.122807       0.2        0.0      0.0      0.0  0.072727\n",
       "252  0.558619       0.4        0.0      0.0      0.0  0.239394"
      ]
     },
     "execution_count": 10,
     "metadata": {},
     "output_type": "execute_result"
    }
   ],
   "source": [
    "#import warnings\n",
    "#warnings.filerwarning('ignore')\n",
    "from sklearn.preprocessing import MinMaxScaler, StandardScaler\n",
    "scaler = MinMaxScaler()\n",
    "df_Newtrain[num_vars] = scaler.fit_transform(df_Newtrain[num_vars])\n",
    "df_Newtrain.head(5)\n"
   ]
  },
  {
   "cell_type": "code",
   "execution_count": 11,
   "id": "f2b27a7b",
   "metadata": {},
   "outputs": [],
   "source": [
    "y_Normtrain = df_Newtrain.pop('price')\n",
    "X_Normtrain = df_Newtrain.copy()"
   ]
  },
  {
   "cell_type": "code",
   "execution_count": 12,
   "id": "0489a2f8",
   "metadata": {},
   "outputs": [
    {
     "data": {
      "text/html": [
       "<div>\n",
       "<style scoped>\n",
       "    .dataframe tbody tr th:only-of-type {\n",
       "        vertical-align: middle;\n",
       "    }\n",
       "\n",
       "    .dataframe tbody tr th {\n",
       "        vertical-align: top;\n",
       "    }\n",
       "\n",
       "    .dataframe thead th {\n",
       "        text-align: right;\n",
       "    }\n",
       "</style>\n",
       "<table border=\"1\" class=\"dataframe\">\n",
       "  <thead>\n",
       "    <tr style=\"text-align: right;\">\n",
       "      <th></th>\n",
       "      <th>area</th>\n",
       "      <th>bedrooms</th>\n",
       "      <th>bathrooms</th>\n",
       "      <th>stories</th>\n",
       "      <th>parking</th>\n",
       "    </tr>\n",
       "  </thead>\n",
       "  <tbody>\n",
       "    <tr>\n",
       "      <th>542</th>\n",
       "      <td>0.124199</td>\n",
       "      <td>0.2</td>\n",
       "      <td>0.0</td>\n",
       "      <td>0.0</td>\n",
       "      <td>0.0</td>\n",
       "    </tr>\n",
       "    <tr>\n",
       "      <th>496</th>\n",
       "      <td>0.150654</td>\n",
       "      <td>0.2</td>\n",
       "      <td>0.0</td>\n",
       "      <td>0.0</td>\n",
       "      <td>0.0</td>\n",
       "    </tr>\n",
       "    <tr>\n",
       "      <th>484</th>\n",
       "      <td>0.083821</td>\n",
       "      <td>0.2</td>\n",
       "      <td>0.0</td>\n",
       "      <td>0.0</td>\n",
       "      <td>0.0</td>\n",
       "    </tr>\n",
       "    <tr>\n",
       "      <th>507</th>\n",
       "      <td>0.122807</td>\n",
       "      <td>0.2</td>\n",
       "      <td>0.0</td>\n",
       "      <td>0.0</td>\n",
       "      <td>0.0</td>\n",
       "    </tr>\n",
       "    <tr>\n",
       "      <th>252</th>\n",
       "      <td>0.558619</td>\n",
       "      <td>0.4</td>\n",
       "      <td>0.0</td>\n",
       "      <td>0.0</td>\n",
       "      <td>0.0</td>\n",
       "    </tr>\n",
       "  </tbody>\n",
       "</table>\n",
       "</div>"
      ],
      "text/plain": [
       "         area  bedrooms  bathrooms  stories  parking\n",
       "542  0.124199       0.2        0.0      0.0      0.0\n",
       "496  0.150654       0.2        0.0      0.0      0.0\n",
       "484  0.083821       0.2        0.0      0.0      0.0\n",
       "507  0.122807       0.2        0.0      0.0      0.0\n",
       "252  0.558619       0.4        0.0      0.0      0.0"
      ]
     },
     "execution_count": 12,
     "metadata": {},
     "output_type": "execute_result"
    }
   ],
   "source": [
    "X_Normtrain.head()"
   ]
  },
  {
   "cell_type": "code",
   "execution_count": 13,
   "id": "b7d4cfd4",
   "metadata": {},
   "outputs": [
    {
     "data": {
      "text/plain": [
       "542    0.000000\n",
       "496    0.081818\n",
       "484    0.096970\n",
       "507    0.072727\n",
       "252    0.239394\n",
       "Name: price, dtype: float64"
      ]
     },
     "execution_count": 13,
     "metadata": {},
     "output_type": "execute_result"
    }
   ],
   "source": [
    "y_Normtrain.head()"
   ]
  },
  {
   "cell_type": "code",
   "execution_count": 14,
   "id": "b95fa87b",
   "metadata": {},
   "outputs": [
    {
     "data": {
      "text/plain": [
       "array([0.        , 0.08181818, 0.0969697 , 0.07272727, 0.23939394,\n",
       "       0.23030303, 0.24545455, 0.3030303 , 0.15757576, 0.16363636,\n",
       "       0.6969697 , 0.1030303 , 0.37515152, 0.13030303, 0.27212121,\n",
       "       0.12121212, 0.10606061, 0.44848485, 0.15151515, 0.35757576,\n",
       "       0.15151515, 0.21515152, 0.16969697, 0.2       , 0.05151515,\n",
       "       0.24242424, 0.72727273, 0.16363636, 0.07878788, 0.04181818,\n",
       "       0.03333333, 0.21878788, 0.38787879, 0.39393939, 0.18787879,\n",
       "       0.48484848, 0.57575758, 0.3       , 0.49090909, 0.38787879,\n",
       "       0.27272727, 0.24242424, 0.2       , 0.10909091, 0.48424242,\n",
       "       0.33333333, 0.46666667, 0.72727273, 0.7030303 , 0.17575758,\n",
       "       0.1030303 , 0.07818182, 0.18060606, 0.26060606, 0.53787879,\n",
       "       0.12060606, 0.15151515, 0.25454545, 0.22424242, 0.23939394,\n",
       "       0.00148485, 0.11515152, 0.36363636, 0.32727273, 0.12121212,\n",
       "       0.47272727, 0.09090909, 0.11212121, 0.09393939, 0.00606061,\n",
       "       0.14848485, 0.21212121, 0.28484848, 0.48484848, 0.3030303 ,\n",
       "       0.25454545, 0.27272727, 0.32424242, 0.        , 0.55151515,\n",
       "       0.16666667, 0.61818182, 0.18787879, 0.24242424, 0.04545455,\n",
       "       0.48484848, 0.42424242, 0.58121212, 0.3030303 , 0.4030303 ,\n",
       "       0.30606061, 0.83636364, 0.07393939, 0.3       , 0.24242424,\n",
       "       0.10909091, 0.78787879, 0.33787879, 0.18181818, 0.27272727,\n",
       "       0.34848485, 0.1030303 , 0.36363636, 0.5969697 , 0.44242424,\n",
       "       0.27272727, 0.60606061, 0.07818182, 0.16060606, 0.64848485,\n",
       "       0.3030303 , 0.19393939, 0.09090909, 0.24181818, 0.26363636,\n",
       "       0.0969697 , 0.45454545, 0.06060606, 0.24242424, 0.36363636,\n",
       "       0.42121212, 0.13939394, 0.17515152, 0.13333333, 0.21212121,\n",
       "       0.03030303, 0.04545455, 0.32121212, 0.03030303, 0.13636364,\n",
       "       0.23575758, 0.22787879, 0.17515152, 0.15151515, 0.49090909,\n",
       "       0.27878788, 0.28484848, 0.36969697, 0.10909091, 0.12727273,\n",
       "       0.31515152, 0.38181818, 0.15151515, 0.45757576, 0.06666667,\n",
       "       0.14848485, 0.29090909, 0.0569697 , 0.21818182, 0.06060606,\n",
       "       0.12727273, 0.2030303 , 0.39393939, 0.16909091, 0.10909091,\n",
       "       0.27575758, 0.33333333, 0.33333333, 0.53333333, 0.08484848,\n",
       "       0.1969697 , 0.23939394, 0.21212121, 0.11515152, 0.90909091,\n",
       "       0.26121212, 0.06363636, 0.33333333, 0.24242424, 0.2030303 ,\n",
       "       0.36969697, 0.16666667, 0.3030303 , 0.3030303 , 0.07878788,\n",
       "       0.18181818, 0.10484848, 0.34545455, 0.14545455, 0.23636364,\n",
       "       0.18787879, 0.21212121, 0.11851515, 0.1030303 , 0.23636364,\n",
       "       0.25151515, 0.35151515, 0.55757576, 0.40909091, 0.21212121,\n",
       "       0.5030303 , 0.46060606, 0.27333333, 0.2       , 0.05454545,\n",
       "       0.07878788, 0.18484848, 0.26666667, 0.21212121, 0.21212121,\n",
       "       0.42727273, 0.21212121, 0.54813333, 0.18181818, 0.57575758,\n",
       "       0.07878788, 0.15090909, 0.04848485, 0.20606061, 0.05454545,\n",
       "       0.26666667, 0.57575758, 0.09393939, 0.18181818, 0.32666667,\n",
       "       0.10909091, 0.14545455, 0.34545455, 0.27212121, 0.38484848,\n",
       "       0.14545455, 0.14545455, 0.14242424, 0.26666667, 0.11818182,\n",
       "       0.28484848, 0.26969697, 0.07878788, 0.27272727, 0.24848485,\n",
       "       0.23575758, 0.44545455, 0.59090909, 0.26666667, 0.21212121,\n",
       "       0.26060606, 0.3569697 , 0.37575758, 0.30909091, 0.07878788,\n",
       "       0.10909091, 0.53030303, 0.22424242, 0.13939394, 0.42424242,\n",
       "       0.12848485, 0.16363636, 0.19393939, 0.64848485, 0.21212121,\n",
       "       0.19393939, 0.06363636, 0.23939394, 0.25454545, 0.14484848,\n",
       "       0.32121212, 0.41818182, 0.36363636, 0.58787879, 0.37575758,\n",
       "       0.33333333, 0.33030303, 0.63636364, 0.15151515, 0.18787879,\n",
       "       0.37575758, 0.14242424, 0.34545455, 0.24848485, 0.23575758,\n",
       "       0.17575758, 0.13939394, 0.2       , 0.1969697 , 0.1030303 ,\n",
       "       0.24181818, 0.06666667, 0.06060606, 0.61515152, 0.19393939,\n",
       "       0.21212121, 0.12121212, 0.22727273, 0.16969697, 0.25454545,\n",
       "       0.11818182, 0.90606061, 0.14545455, 0.3630303 , 0.21818182,\n",
       "       0.21515152, 0.42424242, 0.29090909, 0.16363636, 0.12121212,\n",
       "       0.03030303, 0.22242424, 0.21212121, 0.06060606, 0.29393939,\n",
       "       0.56666667, 0.42242424, 0.20909091, 0.23636364, 0.68666667,\n",
       "       0.16969697, 0.13030303, 0.41212121, 0.22969697, 0.54484848,\n",
       "       0.28424242, 0.47272727, 0.52727273, 0.22424242, 0.14545455,\n",
       "       0.49090909, 0.27272727, 0.10848485, 0.00909091, 0.08484848,\n",
       "       0.36363636, 0.26060606, 0.13939394, 0.46060606, 0.1030303 ,\n",
       "       0.16363636, 0.35636364, 0.29090909, 0.5969697 , 0.12727273,\n",
       "       0.51515152, 0.16363636, 0.15151515, 1.        , 0.15757576,\n",
       "       0.27272727, 0.14848485, 0.16666667, 0.07272727, 0.39333333,\n",
       "       0.15151515, 0.17575758, 0.21151515, 0.13939394, 0.21212121,\n",
       "       0.30121212, 0.16666667, 0.23636364, 0.39393939, 0.27757576,\n",
       "       0.39393939, 0.04242424, 0.31818182, 0.3030303 , 0.43636364,\n",
       "       0.21151515, 0.49393939, 0.18181818, 0.16363636, 0.15151515,\n",
       "       0.27272727, 0.21818182, 0.07272727, 0.25454545, 0.33333333,\n",
       "       0.33333333, 0.18787879, 0.3       , 0.17515152, 0.11575758,\n",
       "       0.35151515, 0.35757576, 0.4969697 , 0.12121212, 0.23333333,\n",
       "       0.19545455, 0.27272727, 0.41212121, 0.13878788, 0.36363636,\n",
       "       0.01212121, 0.06060606, 0.04545455, 0.15151515, 0.15757576,\n",
       "       0.40424242, 0.42121212, 0.13333333, 0.22969697, 0.36363636,\n",
       "       0.17272727, 0.21212121, 0.47575758, 0.13939394, 0.0969697 ,\n",
       "       0.1969697 , 0.23636364, 0.16363636, 0.57575758, 0.12727273,\n",
       "       0.51515152, 0.38181818, 0.15151515, 0.18787879, 0.22424242,\n",
       "       0.09545455, 0.48484848, 0.06060606, 0.3569697 , 0.57575758,\n",
       "       0.29393939, 0.11818182, 0.06666667, 0.33030303, 0.24242424,\n",
       "       0.22969697, 0.21212121, 0.13939394, 0.33333333, 0.30242424,\n",
       "       0.39090909, 0.12121212, 0.13333333, 0.36969697, 0.43030303,\n",
       "       0.3030303 , 0.40909091, 0.0969697 , 0.2030303 , 0.15151515,\n",
       "       0.10909091, 0.43636364, 0.22121212, 0.6969697 , 0.16969697,\n",
       "       0.28484848])"
      ]
     },
     "execution_count": 14,
     "metadata": {},
     "output_type": "execute_result"
    }
   ],
   "source": [
    "Y = y_Normtrain.values\n",
    "Y"
   ]
  },
  {
   "cell_type": "code",
   "execution_count": 15,
   "id": "b948eacb",
   "metadata": {},
   "outputs": [],
   "source": [
    "X0 = df_Newtrain.values[:, 0]"
   ]
  },
  {
   "cell_type": "code",
   "execution_count": 16,
   "id": "5dcb1eaa",
   "metadata": {},
   "outputs": [
    {
     "data": {
      "text/plain": [
       "array([0.12419939, 0.15065441, 0.08382066, 0.12280702, 0.55861877,\n",
       "       0.14842662, 0.13951546, 0.55444166, 0.12559176, 0.11723754,\n",
       "       0.79114453, 0.06015038, 0.17153996, 0.18546366, 0.21992481,\n",
       "       0.0858396 , 0.17516012, 0.49039265, 0.77332219, 0.37064884,\n",
       "       0.12280702, 0.33514341, 0.15413534, 0.08103592, 0.12559176,\n",
       "       0.24533556, 1.        , 0.28710666, 0.01141743, 0.24115845,\n",
       "       0.08103592, 0.10888332, 0.25508215, 0.31773879, 0.25508215,\n",
       "       0.2898914 , 0.39257867, 0.09356725, 0.39014202, 0.33166249,\n",
       "       0.07894737, 0.45697577, 0.1743247 , 0.22556391, 0.66861598,\n",
       "       0.19938736, 0.2898914 , 0.4695071 , 0.43609023, 0.07101086,\n",
       "       0.21748816, 0.15065441, 0.10540239, 0.5850738 , 0.2898914 ,\n",
       "       0.18546366, 0.14995823, 0.17293233, 0.00480368, 0.11654135,\n",
       "       0.03926483, 0.21748816, 0.3264411 , 0.12628794, 0.34210526,\n",
       "       0.2898914 , 0.14786967, 0.13673072, 0.17502089, 0.08103592,\n",
       "       0.24255082, 0.27944862, 0.40128098, 0.2898914 , 0.58709273,\n",
       "       0.2481203 , 0.15900863, 0.42773601, 0.14021164, 0.34837093,\n",
       "       0.12489557, 0.19242551, 0.43469786, 0.0497076 , 0.14856586,\n",
       "       0.2898914 , 0.15343915, 0.2898914 , 0.24115845, 0.20634921,\n",
       "       0.19242551, 0.38874965, 0.07477026, 0.37343358, 0.12559176,\n",
       "       0.13324979, 0.39431913, 0.3358396 , 0.15622389, 0.18685603,\n",
       "       0.2898914 , 0.33270677, 0.30757449, 0.4326093 , 0.2898914 ,\n",
       "       0.19562796, 0.17293233, 0.09391534, 0.18546366, 0.41520468,\n",
       "       0.25508215, 0.15413534, 0.05666945, 0.21957672, 0.43609023,\n",
       "       0.12489557, 0.65016708, 0.20913395, 0.11723754, 0.32748538,\n",
       "       0.15065441, 0.15900863, 0.35463659, 0.13617377, 0.11723754,\n",
       "       0.03926483, 0.        , 0.30451128, 0.10609858, 0.20460874,\n",
       "       0.11654135, 0.21679198, 0.446533  , 0.38387636, 0.3125174 ,\n",
       "       0.17919799, 0.6170983 , 0.35254804, 0.08730159, 0.17641326,\n",
       "       0.33932052, 0.25160123, 0.28153718, 0.31495405, 0.08103592,\n",
       "       0.02151211, 0.66652743, 0.12524366, 0.17571707, 0.11584517,\n",
       "       0.08939014, 0.262044  , 0.37343358, 0.25160123, 0.09774436,\n",
       "       0.28627123, 0.2202729 , 0.22974102, 0.2898914 , 0.34558619,\n",
       "       0.11306043, 0.11723754, 0.35950989, 0.08730159, 0.56558062,\n",
       "       0.11027569, 0.17850181, 0.6031746 , 0.13394598, 0.1283765 ,\n",
       "       0.34558619, 0.12489557, 0.46532999, 0.16875522, 0.1144528 ,\n",
       "       0.01246171, 0.08103592, 0.2481203 , 0.14021164, 0.18615984,\n",
       "       0.08103592, 0.2759677 , 0.03912559, 0.0914787 , 0.28188527,\n",
       "       0.1329017 , 0.20634921, 0.28710666, 0.38805347, 0.05388471,\n",
       "       0.2898914 , 0.49039265, 0.16457811, 0.17293233, 0.0994152 ,\n",
       "       0.12489557, 0.09356725, 0.20739348, 0.02151211, 0.12559176,\n",
       "       0.33166249, 0.03404344, 0.35950989, 0.24115845, 0.25508215,\n",
       "       0.15065441, 0.21331106, 0.09356725, 0.1946533 , 0.04448622,\n",
       "       0.34990253, 0.49004456, 0.10192147, 0.02367029, 0.35254804,\n",
       "       0.06954887, 0.15065441, 0.2202729 , 0.11027569, 0.25508215,\n",
       "       0.00793651, 0.09391534, 0.20530493, 0.16179337, 0.14021164,\n",
       "       0.11862991, 0.17502089, 0.06711223, 0.20426065, 0.14230019,\n",
       "       0.31495405, 0.40824283, 0.48482317, 0.29267613, 0.15615427,\n",
       "       0.31223893, 0.67000835, 0.45502646, 0.41520468, 0.14605959,\n",
       "       0.19242551, 0.32818157, 0.32121972, 0.20286828, 0.2898914 ,\n",
       "       0.12559176, 0.09356725, 0.32330827, 0.11584517, 0.25508215,\n",
       "       0.15761626, 0.08103592, 0.11236424, 0.12489557, 0.15343915,\n",
       "       0.29685324, 0.2898914 , 0.12976887, 0.32748538, 0.33166249,\n",
       "       0.33166249, 0.2481203 , 0.33166249, 0.53355611, 0.37761069,\n",
       "       0.33270677, 0.11236424, 0.31495405, 0.22096909, 0.09231412,\n",
       "       0.27805625, 0.13116124, 0.21971596, 0.2481203 , 0.27944862,\n",
       "       0.15761626, 0.09356725, 0.40824283, 0.31913116, 0.18546366,\n",
       "       0.19242551, 0.14967975, 0.14369256, 0.12169312, 0.23210805,\n",
       "       0.08103592, 0.39431913, 0.05388471, 0.95822891, 0.31495405,\n",
       "       0.06620718, 0.32470064, 0.08103592, 0.12071846, 0.11584517,\n",
       "       0.08103592, 0.15288221, 0.15065441, 0.09774436, 0.1095795 ,\n",
       "       0.21191869, 0.2898914 , 0.15622389, 0.15343915, 0.2898914 ,\n",
       "       0.15343915, 0.14578112, 0.33653578, 0.21191869, 0.393066  ,\n",
       "       0.20634921, 0.40685046, 0.31495405, 0.18546366, 0.02151211,\n",
       "       0.39014202, 0.34001671, 0.4326093 , 0.08033974, 0.15065441,\n",
       "       0.3817878 , 0.51030354, 0.21748816, 0.30659983, 0.12280702,\n",
       "       0.07059315, 0.20634921, 0.29685324, 0.18964077, 0.17293233,\n",
       "       0.2898914 , 0.17014759, 0.1144528 , 0.38874965, 0.18546366,\n",
       "       0.15726817, 0.08521303, 0.26482874, 0.12280702, 0.33166249,\n",
       "       0.16736285, 0.20774158, 0.446533  , 0.11584517, 0.06342245,\n",
       "       0.36542746, 0.12280702, 0.15065441, 0.2898914 , 0.06711223,\n",
       "       0.15761626, 0.00793651, 0.34732665, 0.32748538, 0.713868  ,\n",
       "       0.11236424, 0.17153996, 0.09356725, 0.08103592, 0.28292955,\n",
       "       0.08103592, 0.31495405, 0.17850181, 0.2898914 , 0.31495405,\n",
       "       0.20634921, 0.10122529, 0.18546366, 0.04761905, 0.43609023,\n",
       "       0.27791701, 0.32470064, 0.33166249, 0.49874687, 0.13324979,\n",
       "       0.18546366, 0.2481203 , 0.13394598, 0.06015038, 0.37559176,\n",
       "       0.12621832, 0.09565581, 0.14856586, 0.08939014, 0.18546366,\n",
       "       0.34210526, 0.6031746 , 0.04622668, 0.21470343, 0.36090226,\n",
       "       0.1144528 , 0.07776385, 0.49874687, 0.09391534, 0.2481203 ,\n",
       "       0.12489557, 0.446533  , 0.15970482, 0.35950989, 0.05903648,\n",
       "       0.32330827, 0.18546366, 0.12628794, 0.13784461, 0.11584517,\n",
       "       0.2341966 , 0.23071568, 0.08103592, 0.25508215, 0.42564745,\n",
       "       0.42773601, 0.11584517, 0.0726817 , 0.17850181, 0.24255082,\n",
       "       0.0726817 , 0.22305764, 0.13324979, 0.25508215, 0.29337232,\n",
       "       0.2898914 , 0.15726817, 0.09356725, 0.42912838, 0.22166527,\n",
       "       0.13673072, 0.14786967, 0.2898914 , 0.15343915, 0.12559176,\n",
       "       0.12489557, 0.15065441, 0.59342801, 0.27248677, 0.12280702,\n",
       "       0.33166249])"
      ]
     },
     "execution_count": 16,
     "metadata": {},
     "output_type": "execute_result"
    }
   ],
   "source": [
    "X0"
   ]
  },
  {
   "cell_type": "code",
   "execution_count": 17,
   "id": "dd9d93d3",
   "metadata": {},
   "outputs": [
    {
     "data": {
      "text/plain": [
       "array([[1.],\n",
       "       [1.],\n",
       "       [1.],\n",
       "       [1.],\n",
       "       [1.]])"
      ]
     },
     "execution_count": 17,
     "metadata": {},
     "output_type": "execute_result"
    }
   ],
   "source": [
    "#Lets create a matrix with single column of ones\n",
    "X_0 = np.ones((436, 1))\n",
    "X_0[:5]"
   ]
  },
  {
   "cell_type": "code",
   "execution_count": 18,
   "id": "07d04c16",
   "metadata": {},
   "outputs": [
    {
     "name": "stdout",
     "output_type": "stream",
     "text": [
      "X_1 =  [[0.12419939]\n",
      " [0.15065441]\n",
      " [0.08382066]\n",
      " [0.12280702]\n",
      " [0.55861877]\n",
      " [0.14842662]\n",
      " [0.13951546]\n",
      " [0.55444166]\n",
      " [0.12559176]\n",
      " [0.11723754]]\n"
     ]
    }
   ],
   "source": [
    "# Using reshape function convert X 1D array to 2D array of dimension 97x1\n",
    "#Add columns together to get one linear regression line\n",
    "X_1 = X0.reshape(436, 1)\n",
    "print(\"X_1 = \",X_1[:10])"
   ]
  },
  {
   "cell_type": "code",
   "execution_count": 19,
   "id": "cdb9f732",
   "metadata": {},
   "outputs": [
    {
     "data": {
      "text/plain": [
       "array([[1.        , 0.12419939],\n",
       "       [1.        , 0.15065441],\n",
       "       [1.        , 0.08382066],\n",
       "       [1.        , 0.12280702],\n",
       "       [1.        , 0.55861877]])"
      ]
     },
     "execution_count": 19,
     "metadata": {},
     "output_type": "execute_result"
    }
   ],
   "source": [
    "# Lets use hstack() function from numpy to stack X_0 and X_1 horizontally (i.e. column # This will be our final X matrix (feature matrix)\n",
    "X = np.hstack(( X_0, X_1))\n",
    "X[:5]"
   ]
  },
  {
   "cell_type": "code",
   "execution_count": 20,
   "id": "85069af9",
   "metadata": {},
   "outputs": [
    {
     "data": {
      "text/plain": [
       "array([0., 0.])"
      ]
     },
     "execution_count": 20,
     "metadata": {},
     "output_type": "execute_result"
    }
   ],
   "source": [
    "theta = np.zeros(2)\n",
    "theta"
   ]
  },
  {
   "cell_type": "code",
   "execution_count": 21,
   "id": "41d97f68",
   "metadata": {},
   "outputs": [],
   "source": [
    "def compute_cost(X, Y, theta):\n",
    "  \"\"\"\n",
    "  Compute cost for linear regression.\n",
    "\n",
    "  Input Parameters\n",
    "  ----------------\n",
    "  X : 2D array where each row represent the training example and each column represent       m= number of training examples\n",
    "      n= number of features (including X_0 column of ones)\n",
    "  y : 1D array of labels/target value for each traing example. dimension(1 x m)\n",
    "\n",
    "  theta : 1D array of fitting parameters or weights. Dimension (1 x n)\n",
    "\n",
    "  Output Parameters\n",
    "  -----------------\n",
    "  J : Scalar value.\n",
    "  \"\"\"\n",
    "  predictions = X.dot(theta)\n",
    "  errors = np.subtract(predictions, Y)\n",
    "  sqrErrors = np.square(errors)\n",
    "  J = 1 / (2 * m) * np.sum(sqrErrors)\n",
    "\n",
    "  return J"
   ]
  },
  {
   "cell_type": "code",
   "execution_count": 22,
   "id": "cb4994c0",
   "metadata": {},
   "outputs": [
    {
     "name": "stdout",
     "output_type": "stream",
     "text": [
      "The cost for given values of theta_0 and theta_1 = 0.03841234407170959\n"
     ]
    }
   ],
   "source": [
    "# Lets compute the cost for theta values\n",
    "cost = compute_cost(X, Y, theta)\n",
    "print('The cost for given values of theta_0 and theta_1 =', cost)"
   ]
  },
  {
   "cell_type": "code",
   "execution_count": 23,
   "id": "04d81e26",
   "metadata": {},
   "outputs": [],
   "source": [
    "def gradient_descent(X, Y, theta, alpha, iterations):\n",
    "  \"\"\"\n",
    "  Compute cost for linear regression.\n",
    "\n",
    "  Input Parameters\n",
    "  ----------------\n",
    "  X : 2D array where each row represent the training example and each column represent       m= number of training examples\n",
    "      n= number of features (including X_0 column of ones)\n",
    "  y : 1D array of labels/target value for each traing example. dimension(m x 1)\n",
    "  theta : 1D array of fitting parameters or weights. Dimension (1 x n)\n",
    "  alpha : Learning rate. Scalar value\n",
    "  iterations: No of iterations. Scalar value. \n",
    "\n",
    "  Output Parameters\n",
    "  -----------------\n",
    "  theta : Final Value. 1D array of fitting parameters or weights. Dimension (1 x n)\n",
    "  cost_history: Conatins value of cost for each iteration. 1D array. Dimansion(m x 1)\n",
    "  \"\"\"\n",
    "  cost_history = np.zeros(iterations)\n",
    "\n",
    "  for i in range(iterations):\n",
    "    predictions = X.dot(theta)\n",
    "    errors = np.subtract(predictions, Y)\n",
    "    sum_delta = (alpha / m) * X.transpose().dot(errors);\n",
    "    theta = theta - sum_delta;\n",
    "    cost_history[i] = compute_cost(X, Y, theta)  \n",
    "\n",
    "  return theta, cost_history\n"
   ]
  },
  {
   "cell_type": "code",
   "execution_count": 24,
   "id": "896658f0",
   "metadata": {},
   "outputs": [],
   "source": [
    "theta = [0., 0.]\n",
    "iterations = 1500;\n",
    "alpha = 0.01;"
   ]
  },
  {
   "cell_type": "code",
   "execution_count": 25,
   "id": "ab038231",
   "metadata": {},
   "outputs": [
    {
     "name": "stdout",
     "output_type": "stream",
     "text": [
      "Final value of theta = [0.22317746 0.17762421]\n",
      "cost_history = [0.03793992 0.03747541 0.0370187  ... 0.00935018 0.00934967 0.00934916]\n"
     ]
    }
   ],
   "source": [
    "theta, cost_history = gradient_descent(X, Y, theta, alpha, iterations)\n",
    "print('Final value of theta =', theta)\n",
    "print('cost_history =', cost_history)"
   ]
  },
  {
   "cell_type": "code",
   "execution_count": 26,
   "id": "5f2fd0b4",
   "metadata": {},
   "outputs": [
    {
     "data": {
      "text/plain": [
       "<matplotlib.legend.Legend at 0x1bfd89aa9a0>"
      ]
     },
     "execution_count": 26,
     "metadata": {},
     "output_type": "execute_result"
    },
    {
     "data": {
      "image/png": "[encoded data removed]",
      "text/plain": [
       "<Figure size 432x288 with 1 Axes>"
      ]
     },
     "metadata": {
      "needs_background": "light"
     },
     "output_type": "display_data"
    }
   ],
   "source": [
    "# Since X is list of list (feature matrix) lets take values of column of index 1 only\n",
    "plt.scatter(X[:,1], Y, color='red', marker= '+', label= 'Training Data')\n",
    "plt.plot(X[:,1],X.dot(theta), color='green', label='Linear Regression')\n",
    "\n",
    "plt.rcParams[\"figure.figsize\"] = (10,6)\n",
    "plt.grid()\n",
    "plt.title('Linear Regression Fit')\n",
    "plt.legend()"
   ]
  },
  {
   "cell_type": "code",
   "execution_count": 27,
   "id": "f7b89f91",
   "metadata": {},
   "outputs": [
    {
     "data": {
      "text/plain": [
       "Text(0.5, 1.0, 'Convergence of gradient descent')"
      ]
     },
     "execution_count": 27,
     "metadata": {},
     "output_type": "execute_result"
    },
    {
     "data": {
      "image/png": "[encoded data removed]",
      "text/plain": [
       "<Figure size 720x432 with 1 Axes>"
      ]
     },
     "metadata": {
      "needs_background": "light"
     },
     "output_type": "display_data"
    }
   ],
   "source": [
    "plt.plot(range(1, iterations + 1),cost_history, color='blue')\n",
    "plt.rcParams[\"figure.figsize\"] = (10,6)\n",
    "plt.grid()\n",
    "plt.xlabel('Number of iterations')\n",
    "plt.ylabel('Cost (J)')\n",
    "plt.title('Convergence of gradient descent')"
   ]
  },
  {
   "cell_type": "code",
   "execution_count": 34,
   "id": "2484bc61",
   "metadata": {},
   "outputs": [
    {
     "data": {
      "text/plain": [
       "<matplotlib.legend.Legend at 0x1bfd981dac0>"
      ]
     },
     "execution_count": 34,
     "metadata": {},
     "output_type": "execute_result"
    },
    {
     "data": {
      "image/png": "[encoded data removed]",
      "text/plain": [
       "<Figure size 720x432 with 1 Axes>"
      ]
     },
     "metadata": {
      "needs_background": "light"
     },
     "output_type": "display_data"
    }
   ],
   "source": [
    "# Since X is list of list (feature matrix) lets take values of column of index 1 only\n",
    "plt.scatter(X0, Y, color='red', marker= '+', label= 'Training Data')\n",
    "plt.plot(X0,X.dot(theta), color='green', label='Linear Regression')\n",
    "\n",
    "plt.plot(Y,X.dot(theta), color='black', label='Linear Regression')\n",
    "\n",
    "plt.rcParams[\"figure.figsize\"] = (10,6)\n",
    "plt.grid()\n",
    "plt.title('Linear Regression Fit')\n",
    "plt.legend()"
   ]
  }
 ],
 "metadata": {
  "kernelspec": {
   "display_name": "Python 3 (ipykernel)",
   "language": "python",
   "name": "python3"
  },
  "language_info": {
   "codemirror_mode": {
    "name": "ipython",
    "version": 3
   },
   "file_extension": ".py",
   "mimetype": "text/x-python",
   "name": "python",
   "nbconvert_exporter": "python",
   "pygments_lexer": "ipython3",
   "version": "3.9.12"
  }
 },
 "nbformat": 4,
 "nbformat_minor": 5
}
